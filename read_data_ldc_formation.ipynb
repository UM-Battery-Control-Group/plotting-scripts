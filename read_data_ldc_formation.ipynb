{
 "cells": [
  {
   "cell_type": "code",
   "execution_count": null,
   "metadata": {},
   "outputs": [],
   "source": [
    "import matplotlib.pyplot as plt\n",
    "from matplotlib.widgets import Cursor\n",
    "import seaborn as sns\n",
    "import numpy as np\n",
    "import pandas as pd\n",
    "import math\n",
    "from datetime import datetime\n",
    "import glob, os\n",
    "import plotly.express as px\n",
    "import plotly.graph_objects as go\n",
    "\n",
    "plt.rcParams['figure.dpi'] = 150\n",
    "plt.rcParams['savefig.dpi'] = 600\n",
    "plt.rcParams['figure.max_open_warning']=False\n",
    "plt.style.use('seaborn-white')\n",
    "plt.rcParams['axes.titlesize'] = 10\n",
    "plt.rcParams['figure.titlesize'] = 10\n",
    "\n",
    "\n",
    "data_ldc_DIR = \"./data_formation/\"\n",
    "fig_DIR = \"./figs_formation/\"\n",
    "%matplotlib widget"
   ]
  },
  {
   "cell_type": "markdown",
   "metadata": {},
   "source": [
    "## Function to get dataframe from csv file"
   ]
  },
  {
   "cell_type": "code",
   "execution_count": null,
   "metadata": {},
   "outputs": [],
   "source": [
    "def get_df(cell_no,fdate):\n",
    "    ldc_files=[]\n",
    "    cell =  f'{cell_no:03d}'\n",
    "    cell_name = 'CELL'+cell\n",
    "    for file in os.listdir(data_ldc_DIR):\n",
    "        if cell_name in file and fdate in file and \".csv\" in file:\n",
    "            print(file)\n",
    "            ldc_files.append(file)\n",
    "    ldc_file = ldc_files[0]\n",
    "    dvolt=pd.read_csv(data_ldc_DIR+ldc_file, sep='\\t',header=0,skiprows=6,names=['Datapoint Number','Test Time','Current','Potential','Timestamp','LDC SENSOR','LDC REF','Temperature','Ambient Temperature','Ambient RH','LDC N','LDC STD','REF N','REF STD','LDC scaled'])\n",
    "    return ldc_file,dvolt\n",
    "# ldc_file = ldc_files[test_no-1]"
   ]
  },
  {
   "cell_type": "markdown",
   "metadata": {},
   "source": [
    "## Function to plot data given cell number and experiment date"
   ]
  },
  {
   "cell_type": "code",
   "execution_count": null,
   "metadata": {},
   "outputs": [],
   "source": [
    "def plot_ldc(cell_no,fdate):\n",
    "    ldc_file,dvolt = get_df(cell_no,fdate)\n",
    "    t = dvolt['Timestamp']\n",
    "    t0 = t[0]\n",
    "    t_l = (t-t[0])/(3600*1000)\n",
    "    fig, ax1 = plt.subplots(1,1,figsize=(6,6))\n",
    "    ax1.plot(t_l,dvolt['LDC SENSOR']-dvolt['LDC SENSOR'].iloc[0])\n",
    "    ax1.set_ylabel('IDS Sensor')\n",
    "    ax1.set_xlabel('Time [hr]')\n",
    "    # ax1.set_xlim(left=0)\n",
    "    # ax1.set_ylim(bottom=0)\n",
    "    ax1.set_title(ldc_file)\n",
    "    fig.legend(['LDC'],bbox_to_anchor=(0.9,0.88))\n",
    "    plt.savefig(fig_DIR +ldc_file+'_ldc.png')\n"
   ]
  },
  {
   "cell_type": "markdown",
   "metadata": {},
   "source": [
    "## Set Experiment Date Here"
   ]
  },
  {
   "cell_type": "code",
   "execution_count": null,
   "metadata": {},
   "outputs": [],
   "source": [
    "fdate= '20220706'\n",
    "# ldc_file,dvolt = get_df(ch_no,fdate)"
   ]
  },
  {
   "cell_type": "code",
   "execution_count": null,
   "metadata": {},
   "outputs": [],
   "source": [
    "ch_no=64\n",
    "plot_ldc(ch_no,fdate)"
   ]
  }
 ],
 "metadata": {
  "kernelspec": {
   "display_name": "Python 3.9.13 ('plot')",
   "language": "python",
   "name": "python3"
  },
  "language_info": {
   "codemirror_mode": {
    "name": "ipython",
    "version": 3
   },
   "file_extension": ".py",
   "mimetype": "text/x-python",
   "name": "python",
   "nbconvert_exporter": "python",
   "pygments_lexer": "ipython3",
   "version": "3.9.13"
  },
  "orig_nbformat": 4,
  "vscode": {
   "interpreter": {
    "hash": "dd4a5ee81ad157157ce3af711d31b407edf1bf370e0f4121f5387cdcfd953009"
   }
  }
 },
 "nbformat": 4,
 "nbformat_minor": 2
}
