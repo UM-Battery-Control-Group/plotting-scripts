{
 "cells": [
  {
   "cell_type": "code",
   "execution_count": null,
   "metadata": {},
   "outputs": [],
   "source": [
    "import matplotlib.pyplot as plt\n",
    "from matplotlib.widgets import Cursor\n",
    "import seaborn as sns\n",
    "import numpy as np\n",
    "import pandas as pd\n",
    "import math\n",
    "from datetime import datetime\n",
    "import glob, os\n",
    "import plotly.express as px\n",
    "import plotly.graph_objects as go\n",
    "\n",
    "plt.rcParams['figure.dpi'] = 150\n",
    "plt.rcParams['savefig.dpi'] = 600\n",
    "plt.rcParams['figure.max_open_warning']=False\n",
    "plt.style.use('seaborn-white')\n",
    "plt.rcParams['axes.titlesize'] = 10\n",
    "plt.rcParams['figure.titlesize'] = 10\n",
    "\n",
    "\n",
    "data_ldc_DIR = \"./data_formation/\"\n",
    "fig_DIR = \"./figs_formation/\"\n",
    "%matplotlib widget"
   ]
  },
  {
   "cell_type": "code",
   "execution_count": null,
   "metadata": {},
   "outputs": [],
   "source": [
    "def get_df(ch_no,fdate):\n",
    "    ldc_files=[]\n",
    "    ch =  f'{ch_no:03d}'\n",
    "    ch_name = 'CELL'+ch\n",
    "    for file in os.listdir(data_ldc_DIR):\n",
    "        if ch_name in file and fdate in file and \".csv\" in file:\n",
    "            print(file)\n",
    "            ldc_files.append(file)\n",
    "    ldc_file = ldc_files[0]\n",
    "    dvolt=pd.read_csv(data_ldc_DIR+ldc_file, sep='\\t',header=0,skiprows=6,names=['Datapoint Number','Test Time','Current','Potential','Timestamp','LDC SENSOR','LDC REF','Temperature','Ambient Temperature','Ambient RH','LDC N','LDC STD','REF N','REF STD','LDC scaled'])\n",
    "    return ldc_file,dvolt\n",
    "# ldc_file = ldc_files[test_no-1]"
   ]
  },
  {
   "cell_type": "code",
   "execution_count": null,
   "metadata": {},
   "outputs": [],
   "source": [
    "def plot_ldc(ch_no,fdate):\n",
    "    ldc_file,dvolt = get_df(ch_no,fdate)\n",
    "    t = dvolt['Timestamp']\n",
    "    t0 = t[0]\n",
    "    t_l = (t-t[0])/(3600*1000)\n",
    "    fig, ax1 = plt.subplots(1,1,figsize=(6,6))\n",
    "    ax1.plot(t_l,dvolt['LDC SENSOR']-dvolt['LDC SENSOR'].iloc[0])\n",
    "    ax1.set_ylabel('IDS Sensor')\n",
    "    ax1.set_xlabel('Time [hr]')\n",
    "    # ax1.set_xlim(left=0)\n",
    "    # ax1.set_ylim(bottom=0)\n",
    "    ax1.set_title(ldc_file)\n",
    "    fig.legend(['LDC'],bbox_to_anchor=(0.9,0.88))\n",
    "    plt.savefig(fig_DIR +ldc_file+'_ldc.png')\n"
   ]
  },
  {
   "cell_type": "code",
   "execution_count": null,
   "metadata": {},
   "outputs": [],
   "source": [
    "fdate= '20220706'\n",
    "# ldc_file,dvolt = get_df(ch_no,fdate)"
   ]
  },
  {
   "cell_type": "code",
   "execution_count": null,
   "metadata": {},
   "outputs": [],
   "source": [
    "ch_no=64\n",
    "plot_ldc(ch_no,fdate)"
   ]
  },
  {
   "cell_type": "code",
   "execution_count": null,
   "metadata": {},
   "outputs": [],
   "source": [
    "df={}\n",
    "for ch_no in range(64):\n",
    "    try:\n",
    "        ldc_file,dvolt = get_df(ch_no+1,fdate)\n",
    "        df[ch_no]=dvolt\n",
    "    except:\n",
    "        df[ch_no]=0"
   ]
  },
  {
   "cell_type": "code",
   "execution_count": null,
   "metadata": {},
   "outputs": [],
   "source": [
    "# for ch_no in range(16):\n",
    "colors = ['#1f77b4', '#ff7f0e', '#2ca02c', '#d62728', '#9467bd', '#8c564b', '#e377c2', '#7f7f7f', '#bcbd22', '#17becf']\n",
    "cells_t = [0,8,16,24]\n",
    "for n in range(8):\n",
    "    # n = 0\n",
    "    fig, ax1 = plt.subplots(1,1,figsize=(6,6))\n",
    "    cells = [x+n for x in cells_t]\n",
    "    cells_p = [x+1 for x in cells]\n",
    "    for ch_no in cells:\n",
    "        dvolt = df[ch_no]\n",
    "        ax1.plot(dvolt['Timestamp'],dvolt['LDC SENSOR']-dvolt['LDC SENSOR'].iloc[0],color=colors[ch_no//8])\n",
    "        ax1.set_ylabel('IDS Sensor')\n",
    "        ax1.set_xlabel('Time [hr]')\n",
    "    ax1.set_title('Cells = '+str(cells_p))\n",
    "    plt.savefig(fig_DIR +'Comp_chan_'+'4chan_'+str(n)+'.png')"
   ]
  },
  {
   "cell_type": "code",
   "execution_count": null,
   "metadata": {},
   "outputs": [],
   "source": [
    "# for ch_no in range(16):\n",
    "cells_t = [0,1,2,3,4,5,6,7]\n",
    "colors = ['#1f77b4', '#ff7f0e', '#2ca02c', '#d62728', '#9467bd', '#8c564b', '#e377c2', '#7f7f7f', '#bcbd22', '#17becf']\n",
    "for n in range(4):\n",
    "    # n = 0\n",
    "    fig, ax1 = plt.subplots(1,1,figsize=(6,6))\n",
    "    cells = [x+n*8 for x in cells_t]\n",
    "    cells_p = [x+1 for x in cells]\n",
    "    for ch_no in cells:\n",
    "        dvolt = df[ch_no]\n",
    "        ax1.plot(dvolt['Timestamp'],dvolt['LDC SENSOR']-dvolt['LDC SENSOR'].iloc[0],color=colors[ch_no%8])\n",
    "        ax1.set_ylabel('IDS Sensor')\n",
    "        ax1.set_xlabel('Time [hr]')\n",
    "    ax1.set_title('Cells = '+str(cells_p))\n",
    "    plt.savefig(fig_DIR +'Comp_chan_'+'8chan_'+str(n)+'.png')"
   ]
  },
  {
   "cell_type": "code",
   "execution_count": null,
   "metadata": {},
   "outputs": [],
   "source": [
    "print(plt.rcParams['axes.prop_cycle'].by_key()['color'])"
   ]
  }
 ],
 "metadata": {
  "kernelspec": {
   "display_name": "Python 3.9.13 ('plot')",
   "language": "python",
   "name": "python3"
  },
  "language_info": {
   "codemirror_mode": {
    "name": "ipython",
    "version": 3
   },
   "file_extension": ".py",
   "mimetype": "text/x-python",
   "name": "python",
   "nbconvert_exporter": "python",
   "pygments_lexer": "ipython3",
   "version": "3.9.13"
  },
  "orig_nbformat": 4,
  "vscode": {
   "interpreter": {
    "hash": "dd4a5ee81ad157157ce3af711d31b407edf1bf370e0f4121f5387cdcfd953009"
   }
  }
 },
 "nbformat": 4,
 "nbformat_minor": 2
}
